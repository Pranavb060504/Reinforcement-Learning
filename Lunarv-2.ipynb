{
 "cells": [
  {
   "cell_type": "code",
   "execution_count": 243,
   "metadata": {},
   "outputs": [],
   "source": [
    "import gymnasium as gym \n",
    "import random\n",
    "import torch\n",
    "from torch import nn\n",
    "from collections import deque\n",
    "import numpy as np\n",
    "import matplotlib.pyplot as plt"
   ]
  },
  {
   "cell_type": "code",
   "execution_count": 244,
   "metadata": {},
   "outputs": [
    {
     "name": "stdout",
     "output_type": "stream",
     "text": [
      "Box([-90.        -90.         -5.         -5.         -3.1415927  -5.\n",
      "  -0.         -0.       ], [90.        90.         5.         5.         3.1415927  5.\n",
      "  1.         1.       ], (8,), float32)\n"
     ]
    },
    {
     "data": {
      "text/plain": [
       "Box(-1.0, 1.0, (2,), float32)"
      ]
     },
     "execution_count": 244,
     "metadata": {},
     "output_type": "execute_result"
    }
   ],
   "source": [
    "env=gym.make(\"LunarLanderContinuous-v2\")\n",
    "\n",
    "#observation space\n",
    "print(env.observation_space)\n",
    "\n",
    "#action space\n",
    "env.action_space"
   ]
  },
  {
   "cell_type": "code",
   "execution_count": 245,
   "metadata": {},
   "outputs": [],
   "source": [
    "class OrnsteinUhlenbeckProcess:\n",
    "    def __init__(self, theta, mu, sigma, dt, initial_value=None):\n",
    "        self.theta = theta\n",
    "        self.mu = mu\n",
    "        self.sigma = sigma\n",
    "        self.dt = dt\n",
    "        self.current_value = initial_value if initial_value is not None else mu\n",
    "\n",
    "    def sample(self):\n",
    "        # Generate a sample from the Ornstein-Uhlenbeck process\n",
    "        dW = np.random.normal(loc=0, scale=np.sqrt(self.dt))\n",
    "        dx = self.theta * (self.mu - self.current_value) * self.dt + self.sigma * dW\n",
    "        self.current_value += dx\n",
    "        return self.current_value\n",
    "    \n",
    "class Gaussian_noise:\n",
    "    def __init__(self,mu=0,var=1):\n",
    "        mu=mu\n",
    "        var=var\n",
    "        \n",
    "    def sample(self):\n",
    "        return np.random.normal(0,1)\n",
    "    \n",
    "gauss_process=Gaussian_noise()\n",
    "\n",
    "theta = 0.1\n",
    "mu = 0.0\n",
    "sigma = 0.2\n",
    "dt = 0.01\n",
    "\n",
    "ou_process = OrnsteinUhlenbeckProcess(theta, mu, sigma, dt)"
   ]
  },
  {
   "cell_type": "code",
   "execution_count": 246,
   "metadata": {},
   "outputs": [
    {
     "data": {
      "text/plain": [
       "-716.6927670694603"
      ]
     },
     "execution_count": 246,
     "metadata": {},
     "output_type": "execute_result"
    }
   ],
   "source": [
    "num_episodes=200\n",
    "tot_reward=0\n",
    "for _ in range(num_episodes):\n",
    "\n",
    "    env.reset()\n",
    "    terminal=False\n",
    "\n",
    "    while terminal==False:\n",
    "        #get a action between (-1,1)--action space\n",
    "        action=np.random.random(2)\n",
    "        #take the action\n",
    "        next_state,reward,terminal,truncated,_=env.step(action)\n",
    "        tot_reward+=reward\n",
    "\n",
    "        if truncated==True:\n",
    "            break\n",
    "\n",
    "avg_reward=tot_reward/num_episodes\n",
    "avg_reward"
   ]
  },
  {
   "cell_type": "code",
   "execution_count": 247,
   "metadata": {},
   "outputs": [],
   "source": [
    "def actor_network():\n",
    "    return nn.Sequential(\n",
    "        nn.Linear(8, 16),\n",
    "        nn.ReLU(),\n",
    "        nn.Linear(16, 2)\n",
    "    )\n",
    "\n",
    "def critic_network():\n",
    "    return nn.Sequential(\n",
    "        nn.Linear(10, 16),\n",
    "        nn.ReLU(),\n",
    "        nn.Linear(16, 1)\n",
    "    )\n",
    "\n",
    "class DDPG:\n",
    "    def __init__(self, env, process):\n",
    "        self.env = env\n",
    "        self.max_buffer_size = 2000\n",
    "        self.buffer = deque(maxlen=self.max_buffer_size)\n",
    "        self.critic = critic_network()\n",
    "        self.critic_optimizer = torch.optim.Adam(self.critic.parameters(), lr=0.01)\n",
    "        self.actor = actor_network()\n",
    "        self.actor_optimizer = torch.optim.Adam(self.actor.parameters(), lr=0.01)\n",
    "        self.target_critic =critic_network()\n",
    "        self.target_actor = actor_network()\n",
    "        self.batch_size = 16\n",
    "        self.tau = 0.01\n",
    "        self.process=process\n",
    "        \n",
    "        self.copy_targets(self.target_actor,self.actor)\n",
    "        self.copy_targets(self.target_critic,self.critic)\n",
    "\n",
    "\n",
    "    def copy_targets(self, target, source):\n",
    "        for target_param, param in zip(target.parameters(), source.parameters()):\n",
    "            target_param.data.copy_(param.data)\n",
    "            \n",
    "    def update_targets(self, target, source):\n",
    "        for target_param, param in zip(target.parameters(), source.parameters()):\n",
    "            target_param.data.copy_(self.tau * param.data + (1 - self.tau) * target_param.data)\n",
    "\n",
    "    def train(self,max_episodes):\n",
    "        \n",
    "        arew=[]\n",
    "        current_state=None\n",
    "        for i in range(max_episodes):\n",
    "            \n",
    "            current_state=env.reset()[0]\n",
    "            terminal=False\n",
    "\n",
    "            while terminal==False:\n",
    "                \n",
    "                actor_network_output=torch.clamp(self.actor.forward(torch.tensor(current_state)),min=-1,max=1).detach().numpy()\n",
    "                \n",
    "                noise=self.process.sample()\n",
    "                \n",
    "                # print(noise,actor_network_output)\n",
    "                \n",
    "                action=actor_network_output+noise\n",
    "                \n",
    "                next_state,reward,terminal,truncated,_=env.step(action)\n",
    "                \n",
    "                transition=(current_state,action,reward,next_state)\n",
    "            \n",
    "                self.buffer.append(transition)\n",
    "                current_state=next_state\n",
    "\n",
    "                if truncated==True:\n",
    "                    break\n",
    "                \n",
    "                if len(self.buffer)<self.batch_size:\n",
    "                    continue\n",
    "\n",
    "                sampled_batch = random.sample(self.buffer,self.batch_size)\n",
    "\n",
    "                targets=[]\n",
    "                q_s=[]\n",
    "                d_p_g=torch.tensor([0.])\n",
    "                for s,a,r,next_state in sampled_batch:\n",
    "                        \n",
    "                        s_1=torch.tensor(s)\n",
    "                        a_0=torch.tensor(a)\n",
    "                        s_a=torch.cat((s_1,a_0))\n",
    "                        n_x=torch.tensor(next_state)\n",
    "                        \n",
    "                        a_1=torch.clamp(self.target_actor.forward(n_x),min=-1,max=1)\n",
    "                        \n",
    "                        y=r+self.target_critic.forward(torch.cat((n_x,a_1)))\n",
    "                        \n",
    "                        q=self.critic.forward(s_a)\n",
    "                        targets.append(y)\n",
    "                        q_s.append(q)\n",
    "                \n",
    "                loss = nn.functional.mse_loss(torch.stack(q_s),torch.stack(targets))    \n",
    "                self.critic_optimizer.zero_grad()\n",
    "                loss.backward()\n",
    "                self.critic_optimizer.step() \n",
    "                        \n",
    "                \n",
    "                for s,a,r,next_state in sampled_batch:\n",
    "                     s=torch.tensor(s)\n",
    "                     a_1=torch.clamp(self.actor.forward(s),min=-1,max=1)\n",
    "                     \n",
    "                     q=self.critic.forward(torch.cat((s,a_1)))\n",
    "                     \n",
    "                     d_p_g+=q\n",
    "                     \n",
    "\n",
    "\n",
    "                d_p_g/=(-self.batch_size)\n",
    "\n",
    "                self.actor_optimizer.zero_grad()\n",
    "                \n",
    "                d_p_g.backward()\n",
    "\n",
    "                self.actor_optimizer.step()\n",
    "                \n",
    "\n",
    "            self.update_targets(self.target_actor,self.actor)\n",
    "            self.update_targets(self.target_critic,self.critic)\n",
    "            \n",
    "            if i%50==0:\n",
    "                temp=self.avg_reward(100)\n",
    "                print(temp)\n",
    "                arew.append(temp)\n",
    "        return arew   \n",
    "           \n",
    "        \n",
    "    def avg_reward(self,num_episodes):\n",
    "\n",
    "        tot_reward=0\n",
    "        for _ in range(num_episodes):\n",
    "\n",
    "            current_state=env.reset()[0]\n",
    "            terminal=False\n",
    "            \n",
    "            while terminal==False:\n",
    "                action=torch.clamp(self.actor(torch.tensor(current_state)).detach(),min=-1,max=1).numpy()\n",
    "                next_state,reward,terminal,truncated,_=env.step(action)\n",
    "\n",
    "                current_state=next_state\n",
    "                tot_reward+=reward\n",
    "                if truncated==True:\n",
    "                    break\n",
    "\n",
    "            \n",
    "        return tot_reward/num_episodes     "
   ]
  },
  {
   "cell_type": "code",
   "execution_count": 248,
   "metadata": {},
   "outputs": [],
   "source": [
    "model=DDPG(env,ou_process)"
   ]
  },
  {
   "cell_type": "code",
   "execution_count": 249,
   "metadata": {},
   "outputs": [
    {
     "name": "stdout",
     "output_type": "stream",
     "text": [
      "-588.138212114272\n",
      "-567.0017860590156\n",
      "-1005.9297372077767\n",
      "-624.7480992265914\n",
      "-595.4427679570567\n",
      "-256.3734560705339\n",
      "-586.0842162841217\n",
      "-826.8407143371932\n",
      "-211.43534885316956\n",
      "-71.35361590510915\n"
     ]
    }
   ],
   "source": [
    "avg=model.train(500)"
   ]
  },
  {
   "cell_type": "code",
   "execution_count": 250,
   "metadata": {},
   "outputs": [],
   "source": [
    "model1=DDPG(env,gauss_process)\n"
   ]
  },
  {
   "cell_type": "code",
   "execution_count": 252,
   "metadata": {},
   "outputs": [
    {
     "name": "stdout",
     "output_type": "stream",
     "text": [
      "-1099.6999473326082\n",
      "-1110.8745292972992\n",
      "-1068.778346261481\n",
      "-1178.9553724629172\n",
      "-1094.5679071257964\n",
      "-1100.9439266381805\n",
      "-1091.5011929228388\n",
      "-1073.6049160372734\n",
      "-1079.465411753038\n",
      "-1093.7924607288273\n"
     ]
    }
   ],
   "source": [
    "avg1=model1.train(500)"
   ]
  },
  {
   "cell_type": "code",
   "execution_count": 254,
   "metadata": {},
   "outputs": [
    {
     "data": {
      "image/png": "[encoded data removed]",
      "text/plain": [
       "<Figure size 640x480 with 1 Axes>"
      ]
     },
     "metadata": {},
     "output_type": "display_data"
    }
   ],
   "source": [
    "plt.plot(np.arange(10),avg,label=\"DDPG with Ornstein Uhlenbeck Noise\")\n",
    "plt.plot(np.arange(10),avg1,label=\"DDPG with zero mean gaussian noise\")\n",
    "plt.grid()\n",
    "plt.legend()\n",
    "plt.xlabel('Epoch')\n",
    "plt.ylabel('Average Reward')\n",
    "plt.show()"
   ]
  }
 ],
 "metadata": {
  "kernelspec": {
   "display_name": "Python 3",
   "language": "python",
   "name": "python3"
  },
  "language_info": {
   "codemirror_mode": {
    "name": "ipython",
    "version": 3
   },
   "file_extension": ".py",
   "mimetype": "text/x-python",
   "name": "python",
   "nbconvert_exporter": "python",
   "pygments_lexer": "ipython3",
   "version": "3.11.1"
  }
 },
 "nbformat": 4,
 "nbformat_minor": 2
}
