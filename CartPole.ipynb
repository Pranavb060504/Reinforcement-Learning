{
 "cells": [
  {
   "cell_type": "code",
   "execution_count": 21,
   "metadata": {},
   "outputs": [],
   "source": [
    "import gymnasium as gym\n",
    "import torch.nn as nn\n",
    "import random\n",
    "import torch"
   ]
  },
  {
   "cell_type": "code",
   "execution_count": 22,
   "metadata": {},
   "outputs": [
    {
     "name": "stderr",
     "output_type": "stream",
     "text": [
      "c:\\Python\\Lib\\site-packages\\gymnasium\\envs\\registration.py:513: DeprecationWarning: \u001b[33mWARN: The environment CartPole-v0 is out of date. You should consider upgrading to version `v1`.\u001b[0m\n",
      "  logger.deprecation(\n"
     ]
    }
   ],
   "source": [
    "env=gym.make(\"CartPole-v0\")  "
   ]
  },
  {
   "cell_type": "code",
   "execution_count": 23,
   "metadata": {},
   "outputs": [
    {
     "name": "stdout",
     "output_type": "stream",
     "text": [
      "22.74\n"
     ]
    }
   ],
   "source": [
    "\"\"\"Random agent\"\"\"\n",
    "rewards=0\n",
    "\n",
    "for _ in range(100):\n",
    "    current_trajectory=[]\n",
    "    state=env.reset()[0]\n",
    "    terminal=False\n",
    "\n",
    "    while terminal==False:\n",
    "        \n",
    "\n",
    "        action=random.randint(0,1)\n",
    "\n",
    "        next_state,reward,terminal,truncated,_=env.step(action)\n",
    "\n",
    "        rewards+=reward\n",
    "        if truncated==True:\n",
    "            break\n",
    "\n",
    "        state=next_state\n",
    "    \n",
    "print(rewards/100)"
   ]
  },
  {
   "cell_type": "code",
   "execution_count": 24,
   "metadata": {},
   "outputs": [],
   "source": [
    "class policyNetwork:\n",
    "\n",
    "    def __init__(self):\n",
    "        self.L=nn.Sequential(\n",
    "            nn.Linear(4,32),\n",
    "            nn.ReLU(),\n",
    "            nn.Linear(32,32),\n",
    "            nn.ReLU(),\n",
    "            nn.Linear(32,2),\n",
    "            nn.Softmax()\n",
    "        )\n",
    "    \n",
    "    def forward(self,x):\n",
    "        return self.L(x)   "
   ]
  },
  {
   "cell_type": "code",
   "execution_count": 25,
   "metadata": {},
   "outputs": [
    {
     "name": "stderr",
     "output_type": "stream",
     "text": [
      "c:\\Python\\Lib\\site-packages\\torch\\nn\\modules\\container.py:217: UserWarning: Implicit dimension choice for softmax has been deprecated. Change the call to include dim=X as an argument.\n",
      "  input = module(input)\n"
     ]
    }
   ],
   "source": [
    "max_iters=1500\n",
    "K=32\n",
    "gamma=0.9\n",
    "advantage_normalization=True\n",
    "reward_to_go=True\n",
    "model=policyNetwork()\n",
    "optimizer=torch.optim.Adam(params=model.L.parameters(),lr=0.001)\n",
    "\n",
    "for _ in range(max_iters):\n",
    "\n",
    "    trajectories=[]\n",
    "    for _ in range(K):\n",
    "        current_trajectory=[]\n",
    "        state=env.reset()[0]\n",
    "        terminal=False\n",
    "\n",
    "        while terminal==False:\n",
    "            \n",
    "            weights=model.forward(torch.tensor(state))\n",
    "  \n",
    "            actions=[0,1]\n",
    "            action=random.choices(actions,list(weights.detach()))\n",
    "\n",
    "            next_state,reward,terminal,truncated,_=env.step(action[0])\n",
    "\n",
    "\n",
    "            current_trajectory.append((state,action,reward))\n",
    "            \n",
    "            if truncated==True:\n",
    "                break\n",
    "\n",
    "            state=next_state\n",
    "\n",
    "        trajectories.append(current_trajectory)\n",
    "\n",
    "    if reward_to_go==True:\n",
    "        A=[]\n",
    "        for i in range(K):\n",
    "            G=[]\n",
    "\n",
    "            for t in range(len(trajectories[i])):\n",
    "                sum=0\n",
    "\n",
    "                for j in range(t,len(trajectories[i])):\n",
    "                        sum+=(gamma**(j-t) * trajectories[i][j][2])\n",
    "                    \n",
    "                G.append([sum,trajectories[i][t][0],trajectories[i][t][1]])\n",
    "        \n",
    "            A.append(G)\n",
    "    else:\n",
    "        A=[]\n",
    "        for i in range(K):\n",
    "            G=[]\n",
    "            sum=0\n",
    "            for t in range(len(trajectories[i])): \n",
    "                sum+=(gamma**(t) * trajectories[i][t][2])\n",
    "            G.append([sum,trajectories[i][0][0],trajectories[i][0][1]])\n",
    "        \n",
    "            A.append(G)\n",
    "\n",
    "    \n",
    "    if advantage_normalization==True:\n",
    "        #calculating A_t\n",
    "        for i in range(len(A)):\n",
    "            sum=0\n",
    "            for j in range(len(A[i])):\n",
    "                sum+=A[i][j][0]\n",
    "            \n",
    "            sum=sum/len(A[i])\n",
    "\n",
    "            for j in range(len(A[i])):\n",
    "                A[i][j][0]-=sum\n",
    "    \n",
    "    J=0\n",
    "\n",
    "    for i in range(K):\n",
    "\n",
    "        for j in range(len(A[i])):\n",
    "\n",
    "            a,state,action=A[i][j]\n",
    "\n",
    "            J+=(torch.log(model.forward(torch.tensor(state))[action])*a)\n",
    "\n",
    "    J=J/K\n",
    "\n",
    "    optimizer.zero_grad()\n",
    "    J.backward()\n",
    "    optimizer.step()"
   ]
  },
  {
   "cell_type": "code",
   "execution_count": 26,
   "metadata": {},
   "outputs": [
    {
     "name": "stdout",
     "output_type": "stream",
     "text": [
      "9.03\n"
     ]
    }
   ],
   "source": [
    "\n",
    "rewards=0\n",
    "\n",
    "for _ in range(100):\n",
    "    current_trajectory=[]\n",
    "    state=env.reset()[0]\n",
    "    terminal=False\n",
    "\n",
    "    while terminal==False:\n",
    "        \n",
    "        weights=model.forward(torch.tensor(state))\n",
    "\n",
    "        action=torch.argmax(weights)\n",
    "\n",
    "\n",
    "        next_state,reward,terminal,truncated,_=env.step(int(action.detach()))\n",
    "        if truncated==True:\n",
    "                break\n",
    "\n",
    "        rewards+=reward\n",
    "\n",
    "        state=next_state\n",
    "    \n",
    "print(rewards/100)"
   ]
  }
 ],
 "metadata": {
  "kernelspec": {
   "display_name": "Python 3",
   "language": "python",
   "name": "python3"
  },
  "language_info": {
   "codemirror_mode": {
    "name": "ipython",
    "version": 3
   },
   "file_extension": ".py",
   "mimetype": "text/x-python",
   "name": "python",
   "nbconvert_exporter": "python",
   "pygments_lexer": "ipython3",
   "version": "3.11.1"
  }
 },
 "nbformat": 4,
 "nbformat_minor": 2
}
